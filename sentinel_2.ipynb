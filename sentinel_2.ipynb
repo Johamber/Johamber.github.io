{
  "nbformat": 4,
  "nbformat_minor": 0,
  "metadata": {
    "colab": {
      "provenance": [],
      "mount_file_id": "13tI8K0O-B1LXXKcaeZcA4zm_ys50Q1gk",
      "authorship_tag": "ABX9TyPnRhxXDisP1T7DnD0VviLt",
      "include_colab_link": true
    },
    "kernelspec": {
      "name": "python3",
      "display_name": "Python 3"
    },
    "language_info": {
      "name": "python"
    }
  },
  "cells": [
    {
      "cell_type": "markdown",
      "metadata": {
        "id": "view-in-github",
        "colab_type": "text"
      },
      "source": [
        "<a href=\"https://colab.research.google.com/github/Johamber/Johamber.github.io/blob/master/sentinel_2.ipynb\" target=\"_parent\"><img src=\"https://colab.research.google.com/assets/colab-badge.svg\" alt=\"Open In Colab\"/></a>"
      ]
    },
    {
      "cell_type": "markdown",
      "source": [
        "# 关于配置geemap环境的操作"
      ],
      "metadata": {
        "id": "pmepTTxkyj17"
      }
    },
    {
      "cell_type": "code",
      "execution_count": null,
      "metadata": {
        "colab": {
          "base_uri": "https://localhost:8080/"
        },
        "id": "LE8W1fN7AID4",
        "outputId": "78c13c03-8de0-40b6-97bc-cdb245af1491"
      },
      "outputs": [
        {
          "output_type": "stream",
          "name": "stdout",
          "text": [
            "Requirement already satisfied: earthengine-api in /usr/local/lib/python3.10/dist-packages (0.1.377)\n",
            "Requirement already satisfied: google-cloud-storage in /usr/local/lib/python3.10/dist-packages (from earthengine-api) (2.8.0)\n",
            "Requirement already satisfied: google-api-python-client>=1.12.1 in /usr/local/lib/python3.10/dist-packages (from earthengine-api) (2.84.0)\n",
            "Requirement already satisfied: google-auth>=1.4.1 in /usr/local/lib/python3.10/dist-packages (from earthengine-api) (2.17.3)\n",
            "Requirement already satisfied: google-auth-httplib2>=0.0.3 in /usr/local/lib/python3.10/dist-packages (from earthengine-api) (0.1.1)\n",
            "Requirement already satisfied: httplib2<1dev,>=0.9.2 in /usr/local/lib/python3.10/dist-packages (from earthengine-api) (0.22.0)\n",
            "Requirement already satisfied: requests in /usr/local/lib/python3.10/dist-packages (from earthengine-api) (2.31.0)\n",
            "Requirement already satisfied: google-api-core!=2.0.*,!=2.1.*,!=2.2.*,!=2.3.0,<3.0.0dev,>=1.31.5 in /usr/local/lib/python3.10/dist-packages (from google-api-python-client>=1.12.1->earthengine-api) (2.11.1)\n",
            "Requirement already satisfied: uritemplate<5,>=3.0.1 in /usr/local/lib/python3.10/dist-packages (from google-api-python-client>=1.12.1->earthengine-api) (4.1.1)\n",
            "Requirement already satisfied: cachetools<6.0,>=2.0.0 in /usr/local/lib/python3.10/dist-packages (from google-auth>=1.4.1->earthengine-api) (5.3.2)\n",
            "Requirement already satisfied: pyasn1-modules>=0.2.1 in /usr/local/lib/python3.10/dist-packages (from google-auth>=1.4.1->earthengine-api) (0.3.0)\n",
            "Requirement already satisfied: six>=1.9.0 in /usr/local/lib/python3.10/dist-packages (from google-auth>=1.4.1->earthengine-api) (1.16.0)\n",
            "Requirement already satisfied: rsa<5,>=3.1.4 in /usr/local/lib/python3.10/dist-packages (from google-auth>=1.4.1->earthengine-api) (4.9)\n",
            "Requirement already satisfied: pyparsing!=3.0.0,!=3.0.1,!=3.0.2,!=3.0.3,<4,>=2.4.2 in /usr/local/lib/python3.10/dist-packages (from httplib2<1dev,>=0.9.2->earthengine-api) (3.1.1)\n",
            "Requirement already satisfied: google-cloud-core<3.0dev,>=2.3.0 in /usr/local/lib/python3.10/dist-packages (from google-cloud-storage->earthengine-api) (2.3.3)\n",
            "Requirement already satisfied: google-resumable-media>=2.3.2 in /usr/local/lib/python3.10/dist-packages (from google-cloud-storage->earthengine-api) (2.6.0)\n",
            "Requirement already satisfied: charset-normalizer<4,>=2 in /usr/local/lib/python3.10/dist-packages (from requests->earthengine-api) (3.3.2)\n",
            "Requirement already satisfied: idna<4,>=2.5 in /usr/local/lib/python3.10/dist-packages (from requests->earthengine-api) (3.4)\n",
            "Requirement already satisfied: urllib3<3,>=1.21.1 in /usr/local/lib/python3.10/dist-packages (from requests->earthengine-api) (2.0.7)\n",
            "Requirement already satisfied: certifi>=2017.4.17 in /usr/local/lib/python3.10/dist-packages (from requests->earthengine-api) (2023.7.22)\n",
            "Requirement already satisfied: googleapis-common-protos<2.0.dev0,>=1.56.2 in /usr/local/lib/python3.10/dist-packages (from google-api-core!=2.0.*,!=2.1.*,!=2.2.*,!=2.3.0,<3.0.0dev,>=1.31.5->google-api-python-client>=1.12.1->earthengine-api) (1.61.0)\n",
            "Requirement already satisfied: protobuf!=3.20.0,!=3.20.1,!=4.21.0,!=4.21.1,!=4.21.2,!=4.21.3,!=4.21.4,!=4.21.5,<5.0.0.dev0,>=3.19.5 in /usr/local/lib/python3.10/dist-packages (from google-api-core!=2.0.*,!=2.1.*,!=2.2.*,!=2.3.0,<3.0.0dev,>=1.31.5->google-api-python-client>=1.12.1->earthengine-api) (3.20.3)\n",
            "Requirement already satisfied: google-crc32c<2.0dev,>=1.0 in /usr/local/lib/python3.10/dist-packages (from google-resumable-media>=2.3.2->google-cloud-storage->earthengine-api) (1.5.0)\n",
            "Requirement already satisfied: pyasn1<0.6.0,>=0.4.6 in /usr/local/lib/python3.10/dist-packages (from pyasn1-modules>=0.2.1->google-auth>=1.4.1->earthengine-api) (0.5.0)\n"
          ]
        }
      ],
      "source": [
        "!pip install earthengine-api"
      ]
    },
    {
      "cell_type": "code",
      "source": [
        "!earthengine authenticate --quiet"
      ],
      "metadata": {
        "colab": {
          "base_uri": "https://localhost:8080/"
        },
        "id": "AaAoCafAAVHA",
        "outputId": "3d7478ce-3b91-41c7-afe3-54afedc4bfd6"
      },
      "execution_count": null,
      "outputs": [
        {
          "output_type": "stream",
          "name": "stdout",
          "text": [
            "Paste the following address into a web browser:\n",
            "\n",
            "    https://code.earthengine.google.com/client-auth?scopes=https%3A//www.googleapis.com/auth/earthengine%20https%3A//www.googleapis.com/auth/devstorage.full_control&request_id=Kd38gz_myK9OhlrIAIeEnmbEnCQbBxRR40IvqsreGXA&tc=7BvO0gYwhLXP7VeinPEVFsyUORBHIcYu2ny9GuLZbSQ&cc=0yLGy5tvmY_JUFUfeS8KhyoF4FVi8dS6yndVcwmJjeI\n",
            "\n",
            "On the web page, please authorize access to your Earth Engine account and copy the authentication code. Next authenticate with the following command:\n",
            "\n",
            "    earthengine authenticate --code-verifier=Kd38gz_myK9OhlrIAIeEnmbEnCQbBxRR40IvqsreGXA:at_5hOjYSrdx8pdmqCHnTXX_Z3F4TRWl4IsIIwIRjZI:CrklmvbrxJYvwuRl-RqO45HtXptDtGXWQeRPh7tb3p4 --authorization-code=PLACE_AUTH_CODE_HERE\n",
            "\n",
            "Enter verification code: \n",
            "^C\n"
          ]
        }
      ]
    },
    {
      "cell_type": "code",
      "source": [
        "!earthengine authenticate --code-verifier=Kd38gz_myK9OhlrIAIeEnmbEnCQbBxRR40IvqsreGXA:at_5hOjYSrdx8pdmqCHnTXX_Z3F4TRWl4IsIIwIRjZI:CrklmvbrxJYvwuRl-RqO45HtXptDtGXWQeRPh7tb3p4 --authorization-code=4/1AfJohXk1r0SpjKpACqzUe6hNDRHn5TM_cbq-kjx8GAf7-FA2P0QqmmM-DYE"
      ],
      "metadata": {
        "colab": {
          "base_uri": "https://localhost:8080/"
        },
        "id": "UiF1ZOQsBS6t",
        "outputId": "5639b9fc-52ea-4476-a74a-fed7a106ed2f"
      },
      "execution_count": null,
      "outputs": [
        {
          "output_type": "stream",
          "name": "stdout",
          "text": [
            "\n",
            "Successfully saved authorization token.\n"
          ]
        }
      ]
    },
    {
      "cell_type": "markdown",
      "source": [
        "编译6s"
      ],
      "metadata": {
        "id": "x52RcFWey8W1"
      }
    },
    {
      "cell_type": "code",
      "source": [
        "#查看gfortran是否安装\n",
        "!gfortran -v"
      ],
      "metadata": {
        "colab": {
          "base_uri": "https://localhost:8080/"
        },
        "id": "HndEyuGvGQDi",
        "outputId": "5e74024c-28cd-4310-a93c-971aca937ee2"
      },
      "execution_count": null,
      "outputs": [
        {
          "output_type": "stream",
          "name": "stdout",
          "text": [
            "Using built-in specs.\n",
            "COLLECT_GCC=gfortran\n",
            "COLLECT_LTO_WRAPPER=/usr/lib/gcc/x86_64-linux-gnu/11/lto-wrapper\n",
            "OFFLOAD_TARGET_NAMES=nvptx-none:amdgcn-amdhsa\n",
            "OFFLOAD_TARGET_DEFAULT=1\n",
            "Target: x86_64-linux-gnu\n",
            "Configured with: ../src/configure -v --with-pkgversion='Ubuntu 11.4.0-1ubuntu1~22.04' --with-bugurl=file:///usr/share/doc/gcc-11/README.Bugs --enable-languages=c,ada,c++,go,brig,d,fortran,objc,obj-c++,m2 --prefix=/usr --with-gcc-major-version-only --program-suffix=-11 --program-prefix=x86_64-linux-gnu- --enable-shared --enable-linker-build-id --libexecdir=/usr/lib --without-included-gettext --enable-threads=posix --libdir=/usr/lib --enable-nls --enable-bootstrap --enable-clocale=gnu --enable-libstdcxx-debug --enable-libstdcxx-time=yes --with-default-libstdcxx-abi=new --enable-gnu-unique-object --disable-vtable-verify --enable-plugin --enable-default-pie --with-system-zlib --enable-libphobos-checking=release --with-target-system-zlib=auto --enable-objc-gc=auto --enable-multiarch --disable-werror --enable-cet --with-arch-32=i686 --with-abi=m64 --with-multilib-list=m32,m64,mx32 --enable-multilib --with-tune=generic --enable-offload-targets=nvptx-none=/build/gcc-11-XeT9lY/gcc-11-11.4.0/debian/tmp-nvptx/usr,amdgcn-amdhsa=/build/gcc-11-XeT9lY/gcc-11-11.4.0/debian/tmp-gcn/usr --without-cuda-driver --enable-checking=release --build=x86_64-linux-gnu --host=x86_64-linux-gnu --target=x86_64-linux-gnu --with-build-config=bootstrap-lto-lean --enable-link-serialization=2\n",
            "Thread model: posix\n",
            "Supported LTO compression algorithms: zlib zstd\n",
            "gcc version 11.4.0 (Ubuntu 11.4.0-1ubuntu1~22.04) \n"
          ]
        }
      ]
    },
    {
      "cell_type": "code",
      "source": [
        "# 下载6s源码\n",
        "!wget http://rtwilson.com/downloads/6SV-1.1.tar"
      ],
      "metadata": {
        "colab": {
          "base_uri": "https://localhost:8080/"
        },
        "id": "1VhFU-1SGonh",
        "outputId": "562bb68b-702c-4e42-b668-5888f75e559f"
      },
      "execution_count": null,
      "outputs": [
        {
          "output_type": "stream",
          "name": "stdout",
          "text": [
            "--2023-11-16 01:33:33--  http://rtwilson.com/downloads/6SV-1.1.tar\n",
            "Resolving rtwilson.com (rtwilson.com)... 173.236.139.165\n",
            "Connecting to rtwilson.com (rtwilson.com)|173.236.139.165|:80... connected.\n",
            "HTTP request sent, awaiting response... 200 OK\n",
            "Length: 4075520 (3.9M) [application/x-tar]\n",
            "Saving to: ‘6SV-1.1.tar’\n",
            "\n",
            "6SV-1.1.tar         100%[===================>]   3.89M  11.3MB/s    in 0.3s    \n",
            "\n",
            "2023-11-16 01:33:33 (11.3 MB/s) - ‘6SV-1.1.tar’ saved [4075520/4075520]\n",
            "\n"
          ]
        }
      ]
    },
    {
      "cell_type": "code",
      "source": [
        "!tar xvf 6SV-1.1.tar"
      ],
      "metadata": {
        "colab": {
          "base_uri": "https://localhost:8080/"
        },
        "id": "A90XA4Z0G6BZ",
        "outputId": "45db4b2d-3c8f-4d7b-e687-f40f264131eb"
      },
      "execution_count": null,
      "outputs": [
        {
          "output_type": "stream",
          "name": "stdout",
          "text": [
            "6SV1.1/\n",
            "6SV1.1/AATSR.f\n",
            "6SV1.1/ABSTRA.f\n",
            "6SV1.1/AEROPROF.f\n",
            "6SV1.1/AEROSO.f\n",
            "6SV1.1/AKTOOL.f\n",
            "6SV1.1/ATMREF.f\n",
            "6SV1.1/AVHRR.f\n",
            "6SV1.1/BBM.f\n",
            "6SV1.1/BDM.f\n",
            "6SV1.1/BRDFGRID.f\n",
            "6SV1.1/CHAND.f\n",
            "6SV1.1/CLEARW.f\n",
            "6SV1.1/CSALBR.f\n",
            "6SV1.1/DICA1.f\n",
            "6SV1.1/DICA2.f\n",
            "6SV1.1/DICA3.f\n",
            "6SV1.1/DISCOM.f\n",
            "6SV1.1/DISCRE.f\n",
            "6SV1.1/DUST.f\n",
            "6SV1.1/ENVIRO.f\n",
            "6SV1.1/EQUIVWL.f\n",
            "6SV1.1/GAUSS.f\n",
            "6SV1.1/GLI.f\n",
            "6SV1.1/GOES.f\n",
            "6SV1.1/HAPKALBE.f\n",
            "6SV1.1/HAPKBRDF.f\n",
            "6SV1.1/HRV.f\n",
            "6SV1.1/IAPIALBE.f\n",
            "6SV1.1/IAPIBRDF.f\n",
            "6SV1.1/IAPITOOLS.f\n",
            "6SV1.1/INTERP.f\n",
            "6SV1.1/ISO.f\n",
            "6SV1.1/KERNEL.f\n",
            "6SV1.1/KERNELPOL.f\n",
            "6SV1.1/LAKEW.f\n",
            "6SV1.1/main.f\n",
            "6SV1.1/MAS.f\n",
            "6SV1.1/MERIS.f\n",
            "6SV1.1/METEO.f\n",
            "6SV1.1/METH1.f\n",
            "6SV1.1/METH2.f\n",
            "6SV1.1/METH3.f\n",
            "6SV1.1/METH4.f\n",
            "6SV1.1/METH5.f\n",
            "6SV1.1/METH6.f\n",
            "6SV1.1/MIDSUM.f\n",
            "6SV1.1/MIDWIN.f\n",
            "6SV1.1/MIE.f\n",
            "6SV1.1/MINNALBE.f\n",
            "6SV1.1/MINNBRDF.f\n",
            "6SV1.1/MOCA1.f\n",
            "6SV1.1/MOCA2.f\n",
            "6SV1.1/MOCA3.f\n",
            "6SV1.1/MOCA4.f\n",
            "6SV1.1/MOCA5.f\n",
            "6SV1.1/MOCA6.f\n",
            "6SV1.1/MODISALBE.f\n",
            "6SV1.1/MODISBRDF.f\n",
            "6SV1.1/MODIS.f\n",
            "6SV1.1/MSS.f\n",
            "6SV1.1/NIOX1.f\n",
            "6SV1.1/NIOX2.f\n",
            "6SV1.1/NIOX3.f\n",
            "6SV1.1/NIOX4.f\n",
            "6SV1.1/NIOX5.f\n",
            "6SV1.1/NIOX6.f\n",
            "6SV1.1/OCEAALBE.f\n",
            "6SV1.1/OCEABRDF.f\n",
            "6SV1.1/OCEABRDFFAST.f\n",
            "6SV1.1/OCEA.f\n",
            "6SV1.1/OCEATOOLS.f\n",
            "6SV1.1/ODA550.f\n",
            "6SV1.1/ODRAYL.f\n",
            "6SV1.1/OS.f\n",
            "6SV1.1/OSPOL.f\n",
            "6SV1.1/OXYG3.f\n",
            "6SV1.1/OXYG4.f\n",
            "6SV1.1/OXYG5.f\n",
            "6SV1.1/OXYG6.f\n",
            "6SV1.1/OZON1.f\n",
            "6SV1.1/PLANPOL.f\n",
            "6SV1.1/POLDER.f\n",
            "6SV1.1/POLGLIT.f\n",
            "6SV1.1/POLNAD.f\n",
            "6SV1.1/POSGE.f\n",
            "6SV1.1/POSGW.f\n",
            "6SV1.1/POSLAN.f\n",
            "6SV1.1/POSMTO.f\n",
            "6SV1.1/POSNOA.f\n",
            "6SV1.1/POSSOL.f\n",
            "6SV1.1/POSSPO.f\n",
            "6SV1.1/PRESPLANE.f\n",
            "6SV1.1/PRESSURE.f\n",
            "6SV1.1/PRINT_ERROR.f\n",
            "6SV1.1/RAHMALBE.f\n",
            "6SV1.1/RAHMBRDF.f\n",
            "6SV1.1/ROUJALBE.f\n",
            "6SV1.1/ROUJBRDF.f\n",
            "6SV1.1/SAND.f\n",
            "6SV1.1/SCATRA.f\n",
            "6SV1.1/SEAWIFS.f\n",
            "6SV1.1/SOLIRR.f\n",
            "6SV1.1/SOOT.f\n",
            "6SV1.1/SPECINTERP.f\n",
            "6SV1.1/SPLIE2.f\n",
            "6SV1.1/SPLIN2.f\n",
            "6SV1.1/SPLINE.f\n",
            "6SV1.1/SPLINT.f\n",
            "6SV1.1/STM.f\n",
            "6SV1.1/SUBSUM.f\n",
            "6SV1.1/SUBWIN.f\n",
            "6SV1.1/TM.f\n",
            "6SV1.1/TROPIC.f\n",
            "6SV1.1/TRUNCA.f\n",
            "6SV1.1/US62.f\n",
            "6SV1.1/VARSOL.f\n",
            "6SV1.1/VEGETA.f\n",
            "6SV1.1/VERSALBE.f\n",
            "6SV1.1/VERSBRDF.f\n",
            "6SV1.1/VERSTOOLS.f\n",
            "6SV1.1/WALTALBE.f\n",
            "6SV1.1/WALTBRDF.f\n",
            "6SV1.1/WATE.f\n",
            "6SV1.1/WAVA1.f\n",
            "6SV1.1/WAVA2.f\n",
            "6SV1.1/WAVA3.f\n",
            "6SV1.1/WAVA4.f\n",
            "6SV1.1/WAVA5.f\n",
            "6SV1.1/WAVA6.f\n",
            "6SV1.1/Makefile\n",
            "6SV1.1/paramdef.inc\n",
            "6SV1.1/sixsV1.1\n",
            "6SV1.1/ASTER.f\n",
            "6SV1.1/ALI.f\n",
            "6SV1.1/ETM.f\n",
            "6SV1.1/HYPBLUE.f\n",
            "6SV1.1/VIIRS.f\n",
            "6SV1.1/VGT.f\n",
            "Examples/\n",
            "Examples/Example_In_3.txt\n",
            "Examples/Example_Out_3.txt\n",
            "Examples/Example_In_1.txt\n",
            "Examples/Example_Out_1.txt\n",
            "Examples/Example_In_2.txt\n",
            "Examples/Example_Out_2.txt\n",
            "Examples/Example_In_4.txt\n",
            "Examples/Example_Out_4.txt\n"
          ]
        }
      ]
    },
    {
      "cell_type": "code",
      "source": [
        "os.chdir(\"/content/6SV1.1\")\n",
        "!ls\n",
        "!make"
      ],
      "metadata": {
        "colab": {
          "base_uri": "https://localhost:8080/"
        },
        "id": "HPurb0bHxiQN",
        "outputId": "39d37b20-15f0-4e43-8d13-545179f1d332"
      },
      "execution_count": null,
      "outputs": [
        {
          "output_type": "stream",
          "name": "stdout",
          "text": [
            "AATSR.f     DUST.f\t Makefile    MOCA6.f\t     OXYG3.f\t    RAHMALBE.f\t  TRUNCA.f\n",
            "ABSTRA.f    ENVIRO.f\t MAS.f\t     MODISALBE.f     OXYG4.f\t    RAHMBRDF.f\t  US62.f\n",
            "AEROPROF.f  EQUIVWL.f\t MERIS.f     MODISBRDF.f     OXYG5.f\t    ROUJALBE.f\t  VARSOL.f\n",
            "AEROSO.f    ETM.f\t METEO.f     MODIS.f\t     OXYG6.f\t    ROUJBRDF.f\t  VEGETA.f\n",
            "AKTOOL.f    GAUSS.f\t METH1.f     MSS.f\t     OZON1.f\t    SAND.f\t  VERSALBE.f\n",
            "ALI.f\t    GLI.f\t METH2.f     NIOX1.f\t     paramdef.inc   SCATRA.f\t  VERSBRDF.f\n",
            "ASTER.f     GOES.f\t METH3.f     NIOX2.f\t     PLANPOL.f\t    SEAWIFS.f\t  VERSTOOLS.f\n",
            "ATMREF.f    HAPKALBE.f\t METH4.f     NIOX3.f\t     POLDER.f\t    sixsV1.1\t  VGT.f\n",
            "AVHRR.f     HAPKBRDF.f\t METH5.f     NIOX4.f\t     POLGLIT.f\t    SOLIRR.f\t  VIIRS.f\n",
            "BBM.f\t    HRV.f\t METH6.f     NIOX5.f\t     POLNAD.f\t    SOOT.f\t  WALTALBE.f\n",
            "BDM.f\t    HYPBLUE.f\t MIDSUM.f    NIOX6.f\t     POSGE.f\t    SPECINTERP.f  WALTBRDF.f\n",
            "BRDFGRID.f  IAPIALBE.f\t MIDWIN.f    OCEAALBE.f      POSGW.f\t    SPLIE2.f\t  WATE.f\n",
            "CHAND.f     IAPIBRDF.f\t MIE.f\t     OCEABRDF.f      POSLAN.f\t    SPLIN2.f\t  WAVA1.f\n",
            "CLEARW.f    IAPITOOLS.f  MINNALBE.f  OCEABRDFFAST.f  POSMTO.f\t    SPLINE.f\t  WAVA2.f\n",
            "CSALBR.f    INTERP.f\t MINNBRDF.f  OCEA.f\t     POSNOA.f\t    SPLINT.f\t  WAVA3.f\n",
            "DICA1.f     ISO.f\t MOCA1.f     OCEATOOLS.f     POSSOL.f\t    STM.f\t  WAVA4.f\n",
            "DICA2.f     KERNEL.f\t MOCA2.f     ODA550.f\t     POSSPO.f\t    SUBSUM.f\t  WAVA5.f\n",
            "DICA3.f     KERNELPOL.f  MOCA3.f     ODRAYL.f\t     PRESPLANE.f    SUBWIN.f\t  WAVA6.f\n",
            "DISCOM.f    LAKEW.f\t MOCA4.f     OS.f\t     PRESSURE.f     TM.f\n",
            "DISCRE.f    main.f\t MOCA5.f     OSPOL.f\t     PRINT_ERROR.f  TROPIC.f\n",
            "gfortran -std=legacy -ffixed-line-length-none -ffpe-summary=none -O -O  -c -o AATSR.o AATSR.f\n",
            "gfortran -std=legacy -ffixed-line-length-none -ffpe-summary=none -O -O  -c -o ABSTRA.o ABSTRA.f\n",
            "gfortran -std=legacy -ffixed-line-length-none -ffpe-summary=none -O -O  -c -o AEROSO.o AEROSO.f\n",
            "gfortran -std=legacy -ffixed-line-length-none -ffpe-summary=none -O -O  -c -o AKTOOL.o AKTOOL.f\n",
            "\u001b[01m\u001b[KAKTOOL.f:1570:16:\u001b[m\u001b[K\n",
            "\n",
            " 1570 |       call dakg(uu, aa, n)\n",
            "      |                \u001b[01;35m\u001b[K1\u001b[m\u001b[K\n",
            "\u001b[01;35m\u001b[KWarning:\u001b[m\u001b[K Actual argument contains too few elements for dummy argument ‘\u001b[01m\u001b[Ku\u001b[m\u001b[K’ (20/48) at \u001b[01;35m\u001b[K(1)\u001b[m\u001b[K\n",
            "\u001b[01m\u001b[KAKTOOL.f:1579:16:\u001b[m\u001b[K\n",
            "\n",
            " 1579 |       call dakg(uu, aa, n)\n",
            "      |                \u001b[01;35m\u001b[K1\u001b[m\u001b[K\n",
            "\u001b[01;35m\u001b[KWarning:\u001b[m\u001b[K Actual argument contains too few elements for dummy argument ‘\u001b[01m\u001b[Ku\u001b[m\u001b[K’ (20/48) at \u001b[01;35m\u001b[K(1)\u001b[m\u001b[K\n",
            "gfortran -std=legacy -ffixed-line-length-none -ffpe-summary=none -O -O  -c -o ATMREF.o ATMREF.f\n",
            "gfortran -std=legacy -ffixed-line-length-none -ffpe-summary=none -O -O  -c -o AVHRR.o AVHRR.f\n",
            "gfortran -std=legacy -ffixed-line-length-none -ffpe-summary=none -O -O  -c -o BBM.o BBM.f\n",
            "gfortran -std=legacy -ffixed-line-length-none -ffpe-summary=none -O -O  -c -o BDM.o BDM.f\n",
            "gfortran -std=legacy -ffixed-line-length-none -ffpe-summary=none -O -O  -c -o BRDFGRID.o BRDFGRID.f\n",
            "gfortran -std=legacy -ffixed-line-length-none -ffpe-summary=none -O -O  -c -o CHAND.o CHAND.f\n",
            "gfortran -std=legacy -ffixed-line-length-none -ffpe-summary=none -O -O  -c -o CLEARW.o CLEARW.f\n",
            "gfortran -std=legacy -ffixed-line-length-none -ffpe-summary=none -O -O  -c -o CSALBR.o CSALBR.f\n",
            "gfortran -std=legacy -ffixed-line-length-none -ffpe-summary=none -O -O  -c -o DICA1.o DICA1.f\n",
            "gfortran -std=legacy -ffixed-line-length-none -ffpe-summary=none -O -O  -c -o DICA2.o DICA2.f\n",
            "gfortran -std=legacy -ffixed-line-length-none -ffpe-summary=none -O -O  -c -o DICA3.o DICA3.f\n",
            "gfortran -std=legacy -ffixed-line-length-none -ffpe-summary=none -O -O  -c -o DISCOM.o DISCOM.f\n",
            "gfortran -std=legacy -ffixed-line-length-none -ffpe-summary=none -O -O  -c -o DISCRE.o DISCRE.f\n",
            "gfortran -std=legacy -ffixed-line-length-none -ffpe-summary=none -O -O  -c -o DUST.o DUST.f\n",
            "gfortran -std=legacy -ffixed-line-length-none -ffpe-summary=none -O -O  -c -o ENVIRO.o ENVIRO.f\n",
            "gfortran -std=legacy -ffixed-line-length-none -ffpe-summary=none -O -O  -c -o EQUIVWL.o EQUIVWL.f\n",
            "gfortran -std=legacy -ffixed-line-length-none -ffpe-summary=none -O -O  -c -o GAUSS.o GAUSS.f\n",
            "gfortran -std=legacy -ffixed-line-length-none -ffpe-summary=none -O -O  -c -o GLI.o GLI.f\n",
            "gfortran -std=legacy -ffixed-line-length-none -ffpe-summary=none -O -O  -c -o GOES.o GOES.f\n",
            "gfortran -std=legacy -ffixed-line-length-none -ffpe-summary=none -O -O  -c -o HAPKALBE.o HAPKALBE.f\n",
            "gfortran -std=legacy -ffixed-line-length-none -ffpe-summary=none -O -O  -c -o HAPKBRDF.o HAPKBRDF.f\n",
            "gfortran -std=legacy -ffixed-line-length-none -ffpe-summary=none -O -O  -c -o HRV.o HRV.f\n",
            "gfortran -std=legacy -ffixed-line-length-none -ffpe-summary=none -O -O  -c -o IAPIALBE.o IAPIALBE.f\n",
            "gfortran -std=legacy -ffixed-line-length-none -ffpe-summary=none -O -O  -c -o IAPIBRDF.o IAPIBRDF.f\n",
            "gfortran -std=legacy -ffixed-line-length-none -ffpe-summary=none -O -O  -c -o IAPITOOLS.o IAPITOOLS.f\n",
            "gfortran -std=legacy -ffixed-line-length-none -ffpe-summary=none -O -O  -c -o INTERP.o INTERP.f\n",
            "gfortran -std=legacy -ffixed-line-length-none -ffpe-summary=none -O -O  -c -o ISO.o ISO.f\n",
            "gfortran -std=legacy -ffixed-line-length-none -ffpe-summary=none -O -O  -c -o KERNEL.o KERNEL.f\n",
            "gfortran -std=legacy -ffixed-line-length-none -ffpe-summary=none -O -O  -c -o KERNELPOL.o KERNELPOL.f\n",
            "gfortran -std=legacy -ffixed-line-length-none -ffpe-summary=none -O -O  -c -o LAKEW.o LAKEW.f\n",
            "gfortran -std=legacy -ffixed-line-length-none -ffpe-summary=none -O -O  -c -o MAS.o MAS.f\n",
            "gfortran -std=legacy -ffixed-line-length-none -ffpe-summary=none -O -O  -c -o MERIS.o MERIS.f\n",
            "gfortran -std=legacy -ffixed-line-length-none -ffpe-summary=none -O -O  -c -o METEO.o METEO.f\n",
            "gfortran -std=legacy -ffixed-line-length-none -ffpe-summary=none -O -O  -c -o METH1.o METH1.f\n",
            "gfortran -std=legacy -ffixed-line-length-none -ffpe-summary=none -O -O  -c -o METH2.o METH2.f\n",
            "gfortran -std=legacy -ffixed-line-length-none -ffpe-summary=none -O -O  -c -o METH3.o METH3.f\n",
            "gfortran -std=legacy -ffixed-line-length-none -ffpe-summary=none -O -O  -c -o METH4.o METH4.f\n",
            "gfortran -std=legacy -ffixed-line-length-none -ffpe-summary=none -O -O  -c -o METH5.o METH5.f\n",
            "gfortran -std=legacy -ffixed-line-length-none -ffpe-summary=none -O -O  -c -o METH6.o METH6.f\n",
            "gfortran -std=legacy -ffixed-line-length-none -ffpe-summary=none -O -O  -c -o MIDSUM.o MIDSUM.f\n",
            "gfortran -std=legacy -ffixed-line-length-none -ffpe-summary=none -O -O  -c -o MIDWIN.o MIDWIN.f\n",
            "gfortran -std=legacy -ffixed-line-length-none -ffpe-summary=none -O -O  -c -o MIE.o MIE.f\n",
            "gfortran -std=legacy -ffixed-line-length-none -ffpe-summary=none -O -O  -c -o MINNALBE.o MINNALBE.f\n",
            "gfortran -std=legacy -ffixed-line-length-none -ffpe-summary=none -O -O  -c -o MINNBRDF.o MINNBRDF.f\n",
            "gfortran -std=legacy -ffixed-line-length-none -ffpe-summary=none -O -O  -c -o MOCA1.o MOCA1.f\n",
            "gfortran -std=legacy -ffixed-line-length-none -ffpe-summary=none -O -O  -c -o MOCA2.o MOCA2.f\n",
            "gfortran -std=legacy -ffixed-line-length-none -ffpe-summary=none -O -O  -c -o MOCA3.o MOCA3.f\n",
            "gfortran -std=legacy -ffixed-line-length-none -ffpe-summary=none -O -O  -c -o MOCA4.o MOCA4.f\n",
            "gfortran -std=legacy -ffixed-line-length-none -ffpe-summary=none -O -O  -c -o MOCA5.o MOCA5.f\n",
            "gfortran -std=legacy -ffixed-line-length-none -ffpe-summary=none -O -O  -c -o MOCA6.o MOCA6.f\n",
            "gfortran -std=legacy -ffixed-line-length-none -ffpe-summary=none -O -O  -c -o MODIS.o MODIS.f\n",
            "gfortran -std=legacy -ffixed-line-length-none -ffpe-summary=none -O -O  -c -o MSS.o MSS.f\n",
            "gfortran -std=legacy -ffixed-line-length-none -ffpe-summary=none -O -O  -c -o NIOX1.o NIOX1.f\n",
            "gfortran -std=legacy -ffixed-line-length-none -ffpe-summary=none -O -O  -c -o MODISBRDF.o MODISBRDF.f\n",
            "gfortran -std=legacy -ffixed-line-length-none -ffpe-summary=none -O -O  -c -o MODISALBE.o MODISALBE.f\n",
            "gfortran -std=legacy -ffixed-line-length-none -ffpe-summary=none -O -O  -c -o NIOX2.o NIOX2.f\n",
            "gfortran -std=legacy -ffixed-line-length-none -ffpe-summary=none -O -O  -c -o NIOX3.o NIOX3.f\n",
            "gfortran -std=legacy -ffixed-line-length-none -ffpe-summary=none -O -O  -c -o NIOX4.o NIOX4.f\n",
            "gfortran -std=legacy -ffixed-line-length-none -ffpe-summary=none -O -O  -c -o NIOX5.o NIOX5.f\n",
            "gfortran -std=legacy -ffixed-line-length-none -ffpe-summary=none -O -O  -c -o NIOX6.o NIOX6.f\n",
            "gfortran -std=legacy -ffixed-line-length-none -ffpe-summary=none -O -O  -c -o OCEA.o OCEA.f\n",
            "gfortran -std=legacy -ffixed-line-length-none -ffpe-summary=none -O -O  -c -o OCEAALBE.o OCEAALBE.f\n",
            "gfortran -std=legacy -ffixed-line-length-none -ffpe-summary=none -O -O  -c -o OCEABRDF.o OCEABRDF.f\n",
            "gfortran -std=legacy -ffixed-line-length-none -ffpe-summary=none -O -O  -c -o OCEABRDFFAST.o OCEABRDFFAST.f\n",
            "gfortran -std=legacy -ffixed-line-length-none -ffpe-summary=none -O -O  -c -o OCEATOOLS.o OCEATOOLS.f\n",
            "gfortran -std=legacy -ffixed-line-length-none -ffpe-summary=none -O -O  -c -o ODA550.o ODA550.f\n",
            "gfortran -std=legacy -ffixed-line-length-none -ffpe-summary=none -O -O  -c -o ODRAYL.o ODRAYL.f\n",
            "gfortran -std=legacy -ffixed-line-length-none -ffpe-summary=none -O -O  -c -o OS.o OS.f\n",
            "gfortran -std=legacy -ffixed-line-length-none -ffpe-summary=none -O -O  -c -o OSPOL.o OSPOL.f\n",
            "gfortran -std=legacy -ffixed-line-length-none -ffpe-summary=none -O -O  -c -o OXYG3.o OXYG3.f\n",
            "gfortran -std=legacy -ffixed-line-length-none -ffpe-summary=none -O -O  -c -o OXYG4.o OXYG4.f\n",
            "gfortran -std=legacy -ffixed-line-length-none -ffpe-summary=none -O -O  -c -o OXYG5.o OXYG5.f\n",
            "gfortran -std=legacy -ffixed-line-length-none -ffpe-summary=none -O -O  -c -o OXYG6.o OXYG6.f\n",
            "gfortran -std=legacy -ffixed-line-length-none -ffpe-summary=none -O -O  -c -o OZON1.o OZON1.f\n",
            "gfortran -std=legacy -ffixed-line-length-none -ffpe-summary=none -O -O  -c -o PLANPOL.o PLANPOL.f\n",
            "gfortran -std=legacy -ffixed-line-length-none -ffpe-summary=none -O -O  -c -o POLDER.o POLDER.f\n",
            "gfortran -std=legacy -ffixed-line-length-none -ffpe-summary=none -O -O  -c -o POSGE.o POSGE.f\n",
            "gfortran -std=legacy -ffixed-line-length-none -ffpe-summary=none -O -O  -c -o POSGW.o POSGW.f\n",
            "gfortran -std=legacy -ffixed-line-length-none -ffpe-summary=none -O -O  -c -o POSLAN.o POSLAN.f\n",
            "gfortran -std=legacy -ffixed-line-length-none -ffpe-summary=none -O -O  -c -o POSMTO.o POSMTO.f\n",
            "gfortran -std=legacy -ffixed-line-length-none -ffpe-summary=none -O -O  -c -o POSNOA.o POSNOA.f\n",
            "gfortran -std=legacy -ffixed-line-length-none -ffpe-summary=none -O -O  -c -o POSSOL.o POSSOL.f\n",
            "gfortran -std=legacy -ffixed-line-length-none -ffpe-summary=none -O -O  -c -o POSSPO.o POSSPO.f\n",
            "gfortran -std=legacy -ffixed-line-length-none -ffpe-summary=none -O -O  -c -o POLGLIT.o POLGLIT.f\n",
            "gfortran -std=legacy -ffixed-line-length-none -ffpe-summary=none -O -O  -c -o POLNAD.o POLNAD.f\n",
            "gfortran -std=legacy -ffixed-line-length-none -ffpe-summary=none -O -O  -c -o PRESPLANE.o PRESPLANE.f\n",
            "gfortran -std=legacy -ffixed-line-length-none -ffpe-summary=none -O -O  -c -o PRESSURE.o PRESSURE.f\n",
            "gfortran -std=legacy -ffixed-line-length-none -ffpe-summary=none -O -O  -c -o PRINT_ERROR.o PRINT_ERROR.f\n",
            "gfortran -std=legacy -ffixed-line-length-none -ffpe-summary=none -O -O  -c -o RAHMALBE.o RAHMALBE.f\n",
            "gfortran -std=legacy -ffixed-line-length-none -ffpe-summary=none -O -O  -c -o RAHMBRDF.o RAHMBRDF.f\n",
            "gfortran -std=legacy -ffixed-line-length-none -ffpe-summary=none -O -O  -c -o ROUJALBE.o ROUJALBE.f\n",
            "gfortran -std=legacy -ffixed-line-length-none -ffpe-summary=none -O -O  -c -o ROUJBRDF.o ROUJBRDF.f\n",
            "gfortran -std=legacy -ffixed-line-length-none -ffpe-summary=none -O -O  -c -o SAND.o SAND.f\n",
            "gfortran -std=legacy -ffixed-line-length-none -ffpe-summary=none -O -O  -c -o SCATRA.o SCATRA.f\n",
            "gfortran -std=legacy -ffixed-line-length-none -ffpe-summary=none -O -O  -c -o SEAWIFS.o SEAWIFS.f\n",
            "gfortran -std=legacy -ffixed-line-length-none -ffpe-summary=none -O -O  -c -o SOLIRR.o SOLIRR.f\n",
            "gfortran -std=legacy -ffixed-line-length-none -ffpe-summary=none -O -O  -c -o SOOT.o SOOT.f\n",
            "gfortran -std=legacy -ffixed-line-length-none -ffpe-summary=none -O -O  -c -o SPECINTERP.o SPECINTERP.f\n",
            "gfortran -std=legacy -ffixed-line-length-none -ffpe-summary=none -O -O  -c -o SPLIE2.o SPLIE2.f\n",
            "gfortran -std=legacy -ffixed-line-length-none -ffpe-summary=none -O -O  -c -o SPLIN2.o SPLIN2.f\n",
            "gfortran -std=legacy -ffixed-line-length-none -ffpe-summary=none -O -O  -c -o SPLINE.o SPLINE.f\n",
            "gfortran -std=legacy -ffixed-line-length-none -ffpe-summary=none -O -O  -c -o SPLINT.o SPLINT.f\n",
            "gfortran -std=legacy -ffixed-line-length-none -ffpe-summary=none -O -O  -c -o STM.o STM.f\n",
            "gfortran -std=legacy -ffixed-line-length-none -ffpe-summary=none -O -O  -c -o SUBSUM.o SUBSUM.f\n",
            "gfortran -std=legacy -ffixed-line-length-none -ffpe-summary=none -O -O  -c -o SUBWIN.o SUBWIN.f\n",
            "gfortran -std=legacy -ffixed-line-length-none -ffpe-summary=none -O -O  -c -o TM.o TM.f\n",
            "gfortran -std=legacy -ffixed-line-length-none -ffpe-summary=none -O -O  -c -o TROPIC.o TROPIC.f\n",
            "gfortran -std=legacy -ffixed-line-length-none -ffpe-summary=none -O -O  -c -o TRUNCA.o TRUNCA.f\n",
            "gfortran -std=legacy -ffixed-line-length-none -ffpe-summary=none -O -O  -c -o US62.o US62.f\n",
            "gfortran -std=legacy -ffixed-line-length-none -ffpe-summary=none -O -O  -c -o VARSOL.o VARSOL.f\n",
            "gfortran -std=legacy -ffixed-line-length-none -ffpe-summary=none -O -O  -c -o VEGETA.o VEGETA.f\n",
            "gfortran -std=legacy -ffixed-line-length-none -ffpe-summary=none -O -O  -c -o VERSALBE.o VERSALBE.f\n",
            "gfortran -std=legacy -ffixed-line-length-none -ffpe-summary=none -O -O  -c -o VERSBRDF.o VERSBRDF.f\n",
            "gfortran -std=legacy -ffixed-line-length-none -ffpe-summary=none -O -O  -c -o VERSTOOLS.o VERSTOOLS.f\n",
            "gfortran -std=legacy -ffixed-line-length-none -ffpe-summary=none -O -O  -c -o WALTALBE.o WALTALBE.f\n",
            "gfortran -std=legacy -ffixed-line-length-none -ffpe-summary=none -O -O  -c -o WALTBRDF.o WALTBRDF.f\n",
            "gfortran -std=legacy -ffixed-line-length-none -ffpe-summary=none -O -O  -c -o WATE.o WATE.f\n",
            "gfortran -std=legacy -ffixed-line-length-none -ffpe-summary=none -O -O  -c -o WAVA1.o WAVA1.f\n",
            "gfortran -std=legacy -ffixed-line-length-none -ffpe-summary=none -O -O  -c -o WAVA2.o WAVA2.f\n",
            "gfortran -std=legacy -ffixed-line-length-none -ffpe-summary=none -O -O  -c -o WAVA3.o WAVA3.f\n",
            "gfortran -std=legacy -ffixed-line-length-none -ffpe-summary=none -O -O  -c -o WAVA4.o WAVA4.f\n",
            "gfortran -std=legacy -ffixed-line-length-none -ffpe-summary=none -O -O  -c -o WAVA5.o WAVA5.f\n",
            "gfortran -std=legacy -ffixed-line-length-none -ffpe-summary=none -O -O  -c -o WAVA6.o WAVA6.f\n",
            "gfortran -std=legacy -ffixed-line-length-none -ffpe-summary=none -O -O  -c -o AEROPROF.o AEROPROF.f\n",
            "gfortran -std=legacy -ffixed-line-length-none -ffpe-summary=none -O -O  -c -o ALI.o ALI.f\n",
            "gfortran -std=legacy -ffixed-line-length-none -ffpe-summary=none -O -O  -c -o ASTER.o ASTER.f\n",
            "gfortran -std=legacy -ffixed-line-length-none -ffpe-summary=none -O -O  -c -o ETM.o ETM.f\n",
            "gfortran -std=legacy -ffixed-line-length-none -ffpe-summary=none -O -O  -c -o HYPBLUE.o HYPBLUE.f\n",
            "gfortran -std=legacy -ffixed-line-length-none -ffpe-summary=none -O -O  -c -o VGT.o VGT.f\n",
            "gfortran -std=legacy -ffixed-line-length-none -ffpe-summary=none -O -O  -c -o VIIRS.o VIIRS.f\n",
            "gfortran -std=legacy -ffixed-line-length-none -ffpe-summary=none -O -O  -c -o main.o main.f\n",
            "gfortran -std=legacy -ffixed-line-length-none -ffpe-summary=none -O  main.o  AATSR.o ABSTRA.o AEROSO.o AKTOOL.o ATMREF.o AVHRR.o BBM.o BDM.o BRDFGRID.o CHAND.o CLEARW.o CSALBR.o DICA1.o DICA2.o DICA3.o  DISCOM.o DISCRE.o DUST.o ENVIRO.o EQUIVWL.o GAUSS.o GLI.o GOES.o HAPKALBE.o HAPKBRDF.o HRV.o IAPIALBE.o IAPIBRDF.o IAPITOOLS.o INTERP.o ISO.o KERNEL.o KERNELPOL.o LAKEW.o MAS.o MERIS.o METEO.o METH1.o METH2.o METH3.o METH4.o METH5.o METH6.o MIDSUM.o MIDWIN.o MIE.o MINNALBE.o MINNBRDF.o MOCA1.o MOCA2.o MOCA3.o MOCA4.o MOCA5.o MOCA6.o MODIS.o MSS.o NIOX1.o MODISBRDF.o MODISALBE.o NIOX2.o NIOX3.o NIOX4.o NIOX5.o NIOX6.o OCEA.o OCEAALBE.o OCEABRDF.o OCEABRDFFAST.o OCEATOOLS.o ODA550.o ODRAYL.o OS.o OSPOL.o OXYG3.o OXYG4.o OXYG5.o OXYG6.o OZON1.o PLANPOL.o POLDER.o POSGE.o POSGW.o POSLAN.o POSMTO.o POSNOA.o POSSOL.o POSSPO.o POLGLIT.o POLNAD.o PRESPLANE.o PRESSURE.o PRINT_ERROR.o RAHMALBE.o RAHMBRDF.o ROUJALBE.o ROUJBRDF.o SAND.o SCATRA.o SEAWIFS.o SOLIRR.o SOOT.o SPECINTERP.o SPLIE2.o SPLIN2.o SPLINE.o SPLINT.o STM.o SUBSUM.o SUBWIN.o TM.o TROPIC.o TRUNCA.o US62.o VARSOL.o VEGETA.o VERSALBE.o VERSBRDF.o VERSTOOLS.o WALTALBE.o WALTBRDF.o WATE.o WAVA1.o WAVA2.o WAVA3.o WAVA4.o WAVA5.o WAVA6.o AEROPROF.o ALI.o ASTER.o ETM.o HYPBLUE.o VGT.o VIIRS.o -o sixsV1.1  -lm\n"
          ]
        }
      ]
    },
    {
      "cell_type": "code",
      "source": [
        "# 修改环境变量\n",
        "import os\n",
        "os.environ[\"PATH\"]=\"/content/6SV1.1:\"+os.environ[\"PATH\"]\n",
        "# 测试\n",
        "!sixsV1.1 < /content/Examples/Example_In_1.txt"
      ],
      "metadata": {
        "colab": {
          "base_uri": "https://localhost:8080/"
        },
        "id": "4JUBkpkMxTFi",
        "outputId": "7b2d446f-0da1-47d0-c0e3-361aa27a6b9b"
      },
      "execution_count": null,
      "outputs": [
        {
          "output_type": "stream",
          "name": "stdout",
          "text": [
            "\n",
            "\n",
            "\n",
            "\n",
            "\n",
            "******************************* 6SV version 1.1 *******************************\n",
            "*                                                                             *\n",
            "*                       geometrical conditions identity                       *\n",
            "*                       -------------------------------                       *\n",
            "*                       user defined conditions                               *\n",
            "*                                                                             *\n",
            "*   month:  7 day :  23                                                       *\n",
            "*   solar zenith angle:   40.00 deg  solar azimuthal angle:      100.00 deg   *\n",
            "*   view zenith angle:    45.00 deg  view azimuthal angle:        50.00 deg   *\n",
            "*   scattering angle:    146.49 deg  azimuthal angle difference:  50.00 deg   *\n",
            "*                                                                             *\n",
            "*                       atmospheric model description                         *\n",
            "*                       -----------------------------                         *\n",
            "*           atmospheric model identity :                                      *\n",
            "*             user defined water content : uh2o= 3.000 g/cm2                  *\n",
            "*             user defined ozone content : uo3 = 3.500 cm-atm                 *\n",
            "*           aerosols type identity :                                          *\n",
            "*             user-defined aerosol model:                                     *\n",
            "*                           0.250 % of dust-like                              *\n",
            "*                           0.250 % of water-soluble                          *\n",
            "*                           0.250 % of oceanic                                *\n",
            "*                           0.250 % of soot                                   *\n",
            "*           optical condition identity :                                      *\n",
            "*               visibility :  8.49 km  opt. thick. 550 nm :  0.5000           *\n",
            "*                                                                             *\n",
            "*                       spectral condition                                    *\n",
            "*                       ------------------                                    *\n",
            "*           avhrr 1 (noaa9)                                                   *\n",
            "*               value of filter function :                                    *\n",
            "*                wl inf= 0.530 mic   wl sup= 0.810 mic                        *\n",
            "*                                                                             *\n",
            "*                       Surface polarization parameters                       *\n",
            "*                       ----------------------------------                    *\n",
            "*                                                                             *\n",
            "*                                                                             *\n",
            "* Surface Polarization Q,U,Rop,Chi    0.00000  0.00000  0.00000     0.00      *\n",
            "*                                                                             *\n",
            "*                                                                             *\n",
            "*                       target type                                           *\n",
            "*                       -----------                                           *\n",
            "*           inhomogeneous ground , radius of target  0.500 km                 *\n",
            "*                target reflectance :                                         *\n",
            "*             spectral clear water reflectance       0.045                    *\n",
            "*                environmental reflectance :                                  *\n",
            "*             spectral vegetation ground reflectance 0.129                    *\n",
            "*                                                                             *\n",
            "*                       target elevation description                          *\n",
            "*                       ----------------------------                          *\n",
            "*           ground pressure  [mb]  989.01                                     *\n",
            "*           ground altitude  [km] 0.200                                       *\n",
            "*                gaseous content at target level:                             *\n",
            "*                uh2o= 3.000 g/cm2        uo3= 3.500 cm-atm                   *\n",
            "*                                                                             *\n",
            "*                       plane simulation description                          *\n",
            "*                       ----------------------------                          *\n",
            "*           plane  pressure          [mb]  657.54                             *\n",
            "*           plane  altitude absolute [km]  3.500                              *\n",
            "*                atmosphere under plane description:                          *\n",
            "*                ozone content             0.082                              *\n",
            "*                h2o   content             2.389                              *\n",
            "*               aerosol opt. thick. 550nm  0.281                              *\n",
            "*                                                                             *\n",
            "*                        atmospheric correction activated                     *\n",
            "*                        --------------------------------                     *\n",
            "*                        BRDF coupling correction                             *\n",
            "*           input apparent reflectance :  0.100                               *\n",
            "*                                                                             *\n",
            "*******************************************************************************\n",
            "\n",
            "\n",
            "\n",
            "*******************************************************************************\n",
            "*                                                                             *\n",
            "*                         integrated values of  :                             *\n",
            "*                         --------------------                                *\n",
            "*                                                                             *\n",
            "*       apparent reflectance  0.0330896  appar. rad.(w/m2/sr/mic)   12.749    *\n",
            "*                   total gaseous transmittance  0.675                        *\n",
            "*                                                                             *\n",
            "*******************************************************************************\n",
            "*                                                                             *\n",
            "*                         coupling aerosol -wv  :                             *\n",
            "*                         --------------------                                *\n",
            "*           wv above aerosol :   0.033     wv mixed with aerosol :   0.033    *\n",
            "*                       wv under aerosol :   0.033                            *\n",
            "*******************************************************************************\n",
            "*                                                                             *\n",
            "*                         integrated values of  :                             *\n",
            "*                         --------------------                                *\n",
            "*                                                                             *\n",
            "*       app. polarized refl.  0.0014    app. pol. rad. (w/m2/sr/mic)    0.065 *\n",
            "*             direction of the plane of polarization-27.40                    *\n",
            "*                   total polarization ratio     0.043                        *\n",
            "*                                                                             *\n",
            "*******************************************************************************\n",
            "*                                                                             *\n",
            "*                         int. normalized  values  of  :                      *\n",
            "*                         ---------------------------                         *\n",
            "*                      % of irradiance at ground level                        *\n",
            "*     % of direct  irr.    % of diffuse irr.    % of enviro. irr              *\n",
            "*               0.773               0.221               0.005                 *\n",
            "*                       reflectance at satellite level                        *\n",
            "*     atm. intrin. ref.   environment ref.  target reflectance                *\n",
            "*               0.015               0.004               0.014                 *\n",
            "*                                                                             *\n",
            "*                         int. absolute values of                             *\n",
            "*                         -----------------------                             *\n",
            "*                      irr. at ground level (w/m2/mic)                        *\n",
            "*     direct solar irr.    atm. diffuse irr.    environment  irr              *\n",
            "*             453.574             127.136               3.157                 *\n",
            "*                      rad at satel. level (w/m2/sr/mic)                      *\n",
            "*     atm. intrin. rad.    environment rad.    target radiance                *\n",
            "*               5.649               1.633               5.468                 *\n",
            "*                                                                             *\n",
            "*                                                                             *\n",
            "*          int. funct filter (in mic)              int. sol. spect (in w/m2)  *\n",
            "*             0.1174545                                 185.589               *\n",
            "*                                                                             *\n",
            "*******************************************************************************\n",
            " \n",
            "\n",
            "\n",
            "\n",
            "\n",
            "*******************************************************************************\n",
            "*                                                                             *\n",
            "*                          integrated values of  :                            *\n",
            "*                          --------------------                               *\n",
            "*                                                                             *\n",
            "*                             downward        upward          total           *\n",
            "*      global gas. trans. :     0.68965        0.97248        0.67513         *\n",
            "*      water   \"     \"    :     0.98573        0.98623        0.97592         *\n",
            "*      ozone   \"     \"    :     0.70609        0.99079        0.70008         *\n",
            "*      co2     \"     \"    :     1.00000        1.00000        1.00000         *\n",
            "*      oxyg    \"     \"    :     0.99344        0.99533        0.99179         *\n",
            "*      no2     \"     \"    :     1.00000        1.00000        1.00000         *\n",
            "*      ch4     \"     \"    :     1.00000        1.00000        1.00000         *\n",
            "*      co      \"     \"    :     1.00000        1.00000        1.00000         *\n",
            "*                                                                             *\n",
            "*                                                                             *\n",
            "*      rayl.  sca. trans. :     0.96494        0.93809        0.90520         *\n",
            "*      aeros. sca.   \"    :     0.72090        0.82111        0.59194         *\n",
            "*      total  sca.   \"    :     0.69208        0.81074        0.56110         *\n",
            "*                                                                             *\n",
            "*                                                                             *\n",
            "*                                                                             *\n",
            "*                             rayleigh       aerosols         total           *\n",
            "*                                                                             *\n",
            "*      spherical albedo   :     0.04939        0.04918        0.06820         *\n",
            "*      optical depth total:     0.05550        0.42021        0.47570         *\n",
            "*      optical depth plane:     0.01848        0.23606        0.25454         *\n",
            "*      reflectance I      :     0.01098        0.01327        0.02175         *\n",
            "*      reflectance Q      :     0.00118        0.00037        0.00122         *\n",
            "*      reflectance U      :    -0.00156        0.00000       -0.00173         *\n",
            "*      polarized reflect. :     0.00195        0.00037        0.00212         *\n",
            "*      degree of polar.   :       17.77           2.76           9.75         *\n",
            "*      dir. plane polar.  :      -26.48           0.00         -27.43         *\n",
            "*      phase function I   :     1.26026        0.27565        0.39051         *\n",
            "*      phase function Q   :    -0.21911       -0.00611       -0.03096         *\n",
            "*      phase function U   :    -1.19913       -0.15957       -0.28084         *\n",
            "*      primary deg. of pol:    -0.17386       -0.02215       -0.07927         *\n",
            "*      sing. scat. albedo :     1.00000        0.52284        0.57850         *\n",
            "*                                                                             *\n",
            "*                                                                             *\n",
            "*******************************************************************************\n",
            "*******************************************************************************\n",
            "\n",
            "\n",
            "\n",
            "*******************************************************************************\n",
            "*                        atmospheric correction result                        *\n",
            "*                        -----------------------------                        *\n",
            "*       input apparent reflectance            :    0.100                      *\n",
            "*       measured radiance [w/m2/sr/mic]       :   38.529                      *\n",
            "*       atmospherically corrected reflectance                                 *\n",
            "*       Lambertian case :      0.22187                                        *\n",
            "*       BRDF       case :      0.22187                                        *\n",
            "*       coefficients xa xb xc                 :  0.00685  0.03870  0.06820    *\n",
            "*       y=xa*(measured radiance)-xb;  acr=y/(1.+xc*y)                         *\n",
            "*******************************************************************************\n"
          ]
        }
      ]
    },
    {
      "cell_type": "code",
      "source": [
        "!pip install Py6S"
      ],
      "metadata": {
        "colab": {
          "base_uri": "https://localhost:8080/"
        },
        "id": "5_bvtTe8HCvi",
        "outputId": "83406f5a-3e6a-41e2-f7a3-65009d6688b9"
      },
      "execution_count": null,
      "outputs": [
        {
          "output_type": "stream",
          "name": "stdout",
          "text": [
            "Collecting Py6S\n",
            "  Downloading Py6S-1.9.2.tar.gz (80 kB)\n",
            "\u001b[?25l     \u001b[90m━━━━━━━━━━━━━━━━━━━━━━━━━━━━━━━━━━━━━━━━\u001b[0m \u001b[32m0.0/80.2 kB\u001b[0m \u001b[31m?\u001b[0m eta \u001b[36m-:--:--\u001b[0m\r\u001b[2K     \u001b[91m━━━━━━━━━━━━━━━━━━━━━━━━━━━━━━\u001b[0m\u001b[91m╸\u001b[0m\u001b[90m━━━━━━━━━\u001b[0m \u001b[32m61.4/80.2 kB\u001b[0m \u001b[31m1.5 MB/s\u001b[0m eta \u001b[36m0:00:01\u001b[0m\r\u001b[2K     \u001b[90m━━━━━━━━━━━━━━━━━━━━━━━━━━━━━━━━━━━━━━━━\u001b[0m \u001b[32m80.2/80.2 kB\u001b[0m \u001b[31m1.6 MB/s\u001b[0m eta \u001b[36m0:00:00\u001b[0m\n",
            "\u001b[?25h  Installing build dependencies ... \u001b[?25l\u001b[?25hdone\n",
            "  Getting requirements to build wheel ... \u001b[?25l\u001b[?25hdone\n",
            "  Preparing metadata (pyproject.toml) ... \u001b[?25l\u001b[?25hdone\n",
            "Collecting pysolar>=0.9 (from Py6S)\n",
            "  Downloading pysolar-0.11-py3-none-any.whl (47 kB)\n",
            "\u001b[2K     \u001b[90m━━━━━━━━━━━━━━━━━━━━━━━━━━━━━━━━━━━━━━━━\u001b[0m \u001b[32m47.1/47.1 kB\u001b[0m \u001b[31m5.2 MB/s\u001b[0m eta \u001b[36m0:00:00\u001b[0m\n",
            "\u001b[?25hRequirement already satisfied: scipy in /usr/local/lib/python3.10/dist-packages (from Py6S) (1.11.3)\n",
            "Requirement already satisfied: numpy in /usr/local/lib/python3.10/dist-packages (from pysolar>=0.9->Py6S) (1.23.5)\n",
            "Building wheels for collected packages: Py6S\n",
            "  Building wheel for Py6S (pyproject.toml) ... \u001b[?25l\u001b[?25hdone\n",
            "  Created wheel for Py6S: filename=Py6S-1.9.2-py3-none-any.whl size=92223 sha256=1745a85ac41e0cd864fdcda9a2d65a39424d314e346ad98bdf9021682a3d4503\n",
            "  Stored in directory: /root/.cache/pip/wheels/32/38/16/78463400cda5d89e01116a56729a45243739f18faff7e948f0\n",
            "Successfully built Py6S\n",
            "Installing collected packages: pysolar, Py6S\n",
            "Successfully installed Py6S-1.9.2 pysolar-0.11\n"
          ]
        }
      ]
    },
    {
      "cell_type": "code",
      "source": [
        "from Py6S import *\n",
        "SixS.test()"
      ],
      "metadata": {
        "colab": {
          "base_uri": "https://localhost:8080/"
        },
        "id": "zaHo0oEFHNgK",
        "outputId": "1c608a28-6290-4524-e49e-20c31850e25e"
      },
      "execution_count": null,
      "outputs": [
        {
          "output_type": "stream",
          "name": "stdout",
          "text": [
            "6S wrapper script by Robin Wilson\n",
            "Using 6S located at /content/6SV1.1/sixsV1.1\n",
            "Running 6S using a set of test parameters\n",
            "6sV version: 1.1\n",
            "The results are:\n",
            "Expected result: 619.158000\n",
            "Actual result: 619.158000\n",
            "#### Results agree, Py6S is working correctly\n"
          ]
        },
        {
          "output_type": "execute_result",
          "data": {
            "text/plain": [
              "0"
            ]
          },
          "metadata": {},
          "execution_count": 8
        }
      ]
    },
    {
      "cell_type": "code",
      "source": [
        "os.chdir('/content/drive/MyDrive/Colab Notebooks')\n",
        "from atmospheric import Atmospheric"
      ],
      "metadata": {
        "id": "93RfXtrLNZlY"
      },
      "execution_count": null,
      "outputs": []
    },
    {
      "cell_type": "code",
      "source": [
        "ee.Initialize()\n",
        "date = ee.Date('2017-01-01')\n",
        "geom = ee.Geometry.Point(-157.816222, 21.297481)\n",
        "geom = ee.Geometry.Point(12.670733, 41.826685)# ESRIN (ESA Earth Observation Centre)\n",
        "# The first Sentinel 2 image\n",
        "S2 = ee.Image(\n",
        "  ee.ImageCollection('COPERNICUS/S2_HARMONIZED')\n",
        "    .filterBounds(geom)\n",
        "    .filterDate(date,date.advance(3,'month'))\n",
        "    .sort('system:time_start')\n",
        "    .first()\n",
        "  )\n",
        "\n",
        "# top of atmosphere reflectance\n",
        "toa = S2.divide(10000)\n",
        "info = S2.getInfo()['properties']\n",
        "scene_date = datetime.datetime.utcfromtimestamp(info['system:time_start']/1000)# i.e. Python uses seconds, EE uses milliseconds\n",
        "solar_z = info['MEAN_SOLAR_ZENITH_ANGLE']\n",
        "h2o = Atmospheric.water(geom,date).getInfo()\n",
        "o3 = Atmospheric.ozone(geom,date).getInfo()\n",
        "aot = Atmospheric.aerosol(geom,date).getInfo()\n",
        "\n",
        "# top of atmosphere reflectance\n",
        "toa = S2.divide(10000)\n",
        "info = S2.getInfo()['properties']\n",
        "scene_date = datetime.datetime.utcfromtimestamp(info['system:time_start']/1000)# i.e. Python uses seconds, EE uses milliseconds\n",
        "solar_z = info['MEAN_SOLAR_ZENITH_ANGLE']\n",
        "h2o = Atmospheric.water(geom,date).getInfo()\n",
        "o3 = Atmospheric.ozone(geom,date).getInfo()\n",
        "aot = Atmospheric.aerosol(geom,date).getInfo()\n",
        "SRTM = ee.Image('CGIAR/SRTM90_V4')# Shuttle Radar Topography mission covers *most* of the Earth\n",
        "alt = SRTM.reduceRegion(reducer = ee.Reducer.mean(),geometry = geom.centroid()).get('elevation').getInfo()\n",
        "km = alt/1000 # i.e. Py6S uses units of kilometers\n"
      ],
      "metadata": {
        "id": "zdUXU6W4Qi_3"
      },
      "execution_count": null,
      "outputs": []
    },
    {
      "cell_type": "code",
      "source": [
        "os.system('sudo apt-get install gfortran')"
      ],
      "metadata": {
        "colab": {
          "base_uri": "https://localhost:8080/"
        },
        "id": "ETcxzFwQTixo",
        "outputId": "3f76635e-fc36-435b-bef1-f98069ddb1fb"
      },
      "execution_count": null,
      "outputs": [
        {
          "output_type": "execute_result",
          "data": {
            "text/plain": [
              "0"
            ]
          },
          "metadata": {},
          "execution_count": 36
        }
      ]
    },
    {
      "cell_type": "code",
      "source": [
        "!pip install numpy"
      ],
      "metadata": {
        "colab": {
          "base_uri": "https://localhost:8080/"
        },
        "id": "iU-IxvHfVDUi",
        "outputId": "ef2aaeea-7046-463b-a046-a6984ece6fdc"
      },
      "execution_count": null,
      "outputs": [
        {
          "output_type": "stream",
          "name": "stdout",
          "text": [
            "Requirement already satisfied: numpy in /usr/local/lib/python3.10/dist-packages (1.23.5)\n"
          ]
        }
      ]
    },
    {
      "cell_type": "code",
      "source": [
        "!apt-get -y install libgfortran"
      ],
      "metadata": {
        "colab": {
          "base_uri": "https://localhost:8080/"
        },
        "id": "HUcNk2iIVV_L",
        "outputId": "782c5242-c308-441a-a828-8fa29035623b"
      },
      "execution_count": null,
      "outputs": [
        {
          "output_type": "stream",
          "name": "stdout",
          "text": [
            "Reading package lists... Done\n",
            "Building dependency tree... Done\n",
            "Reading state information... Done\n",
            "E: Unable to locate package libgfortran\n"
          ]
        }
      ]
    },
    {
      "cell_type": "code",
      "source": [
        "!sixsV1.1 < /content/Examples/Example_In_1.txt"
      ],
      "metadata": {
        "colab": {
          "base_uri": "https://localhost:8080/"
        },
        "id": "h91ibkmHTIpG",
        "outputId": "c5634353-ce77-4428-980f-d00e88252969"
      },
      "execution_count": null,
      "outputs": [
        {
          "output_type": "stream",
          "name": "stdout",
          "text": [
            "sixsV1.1: error while loading shared libraries: libg2c.so.0: cannot open shared object file: No such file or directory\n"
          ]
        }
      ]
    },
    {
      "cell_type": "code",
      "source": [
        "# Instantiate\n",
        "s = SixS()\n",
        "\n",
        "# Atmospheric constituents\n",
        "s.atmos_profile = AtmosProfile.UserWaterAndOzone(h2o,o3)\n",
        "s.aero_profile = AeroProfile.Continental\n",
        "s.aot550 = aot\n",
        "\n",
        "\n",
        "# Earth-Sun-satellite geometry\n",
        "s.geometry = Geometry.User()\n",
        "s.geometry.view_z = 0               # always NADIR (I think..)\n",
        "s.geometry.solar_z = solar_z        # solar zenith angle\n",
        "s.geometry.month = scene_date.month # month and day used for Earth-Sun distance\n",
        "s.geometry.day = scene_date.day     # month and day used for Earth-Sun distance\n",
        "s.altitudes.set_sensor_satellite_level()\n",
        "s.altitudes.set_target_custom_altitude(km)\n",
        "s.run()\n"
      ],
      "metadata": {
        "id": "07o1XefGS1vX"
      },
      "execution_count": null,
      "outputs": []
    },
    {
      "cell_type": "code",
      "source": [
        "def spectralResponseFunction(bandname):\n",
        "    \"\"\"\n",
        "    Extract spectral response function for given band name\n",
        "    \"\"\"\n",
        "\n",
        "    bandSelect = {\n",
        "        'B1':PredefinedWavelengths.S2A_MSI_01,\n",
        "        'B2':PredefinedWavelengths.S2A_MSI_02,\n",
        "        'B3':PredefinedWavelengths.S2A_MSI_03,\n",
        "        'B4':PredefinedWavelengths.S2A_MSI_04,\n",
        "        'B5':PredefinedWavelengths.S2A_MSI_05,\n",
        "        'B6':PredefinedWavelengths.S2A_MSI_06,\n",
        "        'B7':PredefinedWavelengths.S2A_MSI_07,\n",
        "        'B8':PredefinedWavelengths.S2A_MSI_08,\n",
        "        'B8A':PredefinedWavelengths.S2A_MSI_8A,\n",
        "        'B9':PredefinedWavelengths.S2A_MSI_09,\n",
        "        'B10':PredefinedWavelengths.S2A_MSI_10,\n",
        "        'B11':PredefinedWavelengths.S2A_MSI_11,\n",
        "        'B12':PredefinedWavelengths.S2A_MSI_12,\n",
        "        }\n",
        "\n",
        "    return Wavelength(bandSelect[bandname])\n",
        "def toa_to_rad(bandname):\n",
        "    \"\"\"\n",
        "    Converts top of atmosphere reflectance to at-sensor radiance\n",
        "    \"\"\"\n",
        "\n",
        "    # solar exoatmospheric spectral irradiance\n",
        "    ESUN = info['SOLAR_IRRADIANCE_'+bandname]\n",
        "    solar_angle_correction = math.cos(math.radians(solar_z))\n",
        "\n",
        "    # Earth-Sun distance (from day of year)\n",
        "    doy = scene_date.timetuple().tm_yday\n",
        "    d = 1 - 0.01672 * math.cos(0.9856 * (doy-4))# http://physics.stackexchange.com/questions/177949/earth-sun-distance-on-a-given-day-of-the-year\n",
        "\n",
        "    # conversion factor\n",
        "    multiplier = ESUN*solar_angle_correction/(math.pi*d**2)\n",
        "\n",
        "    # at-sensor radiance\n",
        "    rad = toa.select(bandname).multiply(multiplier)\n",
        "\n",
        "    return rad\n",
        "def surface_reflectance(bandname):\n",
        "    \"\"\"\n",
        "    Calculate surface reflectance from at-sensor radiance given waveband name\n",
        "    \"\"\"\n",
        "\n",
        "    # run 6S for this waveband\n",
        "    s.wavelength = spectralResponseFunction(bandname)\n",
        "    s.run()\n",
        "\n",
        "    # extract 6S outputs\n",
        "    Edir = s.outputs.direct_solar_irradiance             #direct solar irradiance\n",
        "    Edif = s.outputs.diffuse_solar_irradiance            #diffuse solar irradiance\n",
        "    Lp   = s.outputs.atmospheric_intrinsic_radiance      #path radiance\n",
        "    absorb  = s.outputs.trans['global_gas'].upward       #absorption transmissivity\n",
        "    scatter = s.outputs.trans['total_scattering'].upward #scattering transmissivity\n",
        "    tau2 = absorb*scatter                                #total transmissivity\n",
        "\n",
        "    # radiance to surface reflectance\n",
        "    rad = toa_to_rad(bandname)\n",
        "    ref = rad.subtract(Lp).multiply(math.pi).divide(tau2*(Edir+Edif))\n",
        "\n",
        "    return ref\n",
        "# all wavebands\n",
        "output = S2.select('QA60')\n",
        "for band in ['B1','B2','B3','B4','B5','B6','B7','B8','B8A','B9','B10','B11','B12']:\n",
        "    print(band)\n",
        "    output = output.addBands(surface_reflectance(band))"
      ],
      "metadata": {
        "id": "mPrI2bHBS6Nq"
      },
      "execution_count": null,
      "outputs": []
    }
  ]
}